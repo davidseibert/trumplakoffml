{
 "cells": [
  {
   "cell_type": "code",
   "execution_count": 89,
   "metadata": {
    "collapsed": true,
    "run_control": {
     "frozen": false,
     "read_only": false
    }
   },
   "outputs": [],
   "source": [
    "import pandas as pd\n",
    "from collections import OrderedDict"
   ]
  },
  {
   "cell_type": "code",
   "execution_count": 59,
   "metadata": {
    "collapsed": true
   },
   "outputs": [],
   "source": [
    "DATA_DIR = 'data/'\n",
    "INPUT_FILE = DATA_DIR + 'all_original.xlsx'\n",
    "OUTPUT_FILE = DATA_DIR + 'all_clean.csv'"
   ]
  },
  {
   "cell_type": "markdown",
   "metadata": {},
   "source": [
    "# Load"
   ]
  },
  {
   "cell_type": "code",
   "execution_count": 107,
   "metadata": {
    "collapsed": false
   },
   "outputs": [
    {
     "data": {
      "text/html": [
       "<div>\n",
       "<table border=\"1\" class=\"dataframe\">\n",
       "  <thead>\n",
       "    <tr style=\"text-align: right;\">\n",
       "      <th></th>\n",
       "      <th>Date</th>\n",
       "      <th>Time</th>\n",
       "      <th>Tweet</th>\n",
       "      <th>Client</th>\n",
       "      <th>Client Simplified</th>\n",
       "    </tr>\n",
       "  </thead>\n",
       "  <tbody>\n",
       "    <tr>\n",
       "      <th>0</th>\n",
       "      <td>12/05/2016</td>\n",
       "      <td>12:00:27 PM</td>\n",
       "      <td>If the press would cover me accurately &amp; honor...</td>\n",
       "      <td>Twitter Web Client</td>\n",
       "      <td>Twitter Web Client</td>\n",
       "    </tr>\n",
       "    <tr>\n",
       "      <th>1</th>\n",
       "      <td>12/05/2016</td>\n",
       "      <td>9:53:11 AM</td>\n",
       "      <td>I am thrilled to nominate Dr. @RealBenCarson a...</td>\n",
       "      <td>Twitter for iPhone</td>\n",
       "      <td>Twitter for iPhone</td>\n",
       "    </tr>\n",
       "    <tr>\n",
       "      <th>2</th>\n",
       "      <td>12/04/2016</td>\n",
       "      <td>6:30:22 PM</td>\n",
       "      <td>their country (the U.S. doesn't tax them) or t...</td>\n",
       "      <td>Twitter for Android</td>\n",
       "      <td>Twitter for Android</td>\n",
       "    </tr>\n",
       "    <tr>\n",
       "      <th>3</th>\n",
       "      <td>12/04/2016</td>\n",
       "      <td>6:23:55 PM</td>\n",
       "      <td>Did China ask us if it was OK to devalue their...</td>\n",
       "      <td>Twitter for Android</td>\n",
       "      <td>Twitter for Android</td>\n",
       "    </tr>\n",
       "    <tr>\n",
       "      <th>4</th>\n",
       "      <td>12/04/2016</td>\n",
       "      <td>5:47:21 PM</td>\n",
       "      <td>.@FoxNews will be re-running \"Objectified: Don...</td>\n",
       "      <td>Twitter for Android</td>\n",
       "      <td>Twitter for Android</td>\n",
       "    </tr>\n",
       "  </tbody>\n",
       "</table>\n",
       "</div>"
      ],
      "text/plain": [
       "         Date         Time                                              Tweet  \\\n",
       "0  12/05/2016  12:00:27 PM  If the press would cover me accurately & honor...   \n",
       "1  12/05/2016   9:53:11 AM  I am thrilled to nominate Dr. @RealBenCarson a...   \n",
       "2  12/04/2016   6:30:22 PM  their country (the U.S. doesn't tax them) or t...   \n",
       "3  12/04/2016   6:23:55 PM  Did China ask us if it was OK to devalue their...   \n",
       "4  12/04/2016   5:47:21 PM  .@FoxNews will be re-running \"Objectified: Don...   \n",
       "\n",
       "                Client    Client Simplified  \n",
       "0   Twitter Web Client   Twitter Web Client  \n",
       "1   Twitter for iPhone   Twitter for iPhone  \n",
       "2  Twitter for Android  Twitter for Android  \n",
       "3  Twitter for Android  Twitter for Android  \n",
       "4  Twitter for Android  Twitter for Android  "
      ]
     },
     "execution_count": 107,
     "metadata": {},
     "output_type": "execute_result"
    }
   ],
   "source": [
    "original = pd.read_excel(INPUT_FILE)\n",
    "original.head()"
   ]
  },
  {
   "cell_type": "markdown",
   "metadata": {},
   "source": [
    "# Clean"
   ]
  },
  {
   "cell_type": "code",
   "execution_count": 117,
   "metadata": {
    "collapsed": false
   },
   "outputs": [
    {
     "data": {
      "text/html": [
       "<div>\n",
       "<table border=\"1\" class=\"dataframe\">\n",
       "  <thead>\n",
       "    <tr style=\"text-align: right;\">\n",
       "      <th></th>\n",
       "      <th>client</th>\n",
       "      <th>tweet</th>\n",
       "    </tr>\n",
       "    <tr>\n",
       "      <th>date</th>\n",
       "      <th></th>\n",
       "      <th></th>\n",
       "    </tr>\n",
       "  </thead>\n",
       "  <tbody>\n",
       "    <tr>\n",
       "      <th>2016-12-05 12:00:27</th>\n",
       "      <td>Twitter Web Client</td>\n",
       "      <td>If the press would cover me accurately &amp; honor...</td>\n",
       "    </tr>\n",
       "    <tr>\n",
       "      <th>2016-12-05 09:53:11</th>\n",
       "      <td>Twitter for iPhone</td>\n",
       "      <td>I am thrilled to nominate Dr. @RealBenCarson a...</td>\n",
       "    </tr>\n",
       "    <tr>\n",
       "      <th>2016-12-04 18:30:22</th>\n",
       "      <td>Twitter for Android</td>\n",
       "      <td>their country (the U.S. doesn't tax them) or t...</td>\n",
       "    </tr>\n",
       "    <tr>\n",
       "      <th>2016-12-04 18:23:55</th>\n",
       "      <td>Twitter for Android</td>\n",
       "      <td>Did China ask us if it was OK to devalue their...</td>\n",
       "    </tr>\n",
       "    <tr>\n",
       "      <th>2016-12-04 17:47:21</th>\n",
       "      <td>Twitter for Android</td>\n",
       "      <td>.@FoxNews will be re-running \"Objectified: Don...</td>\n",
       "    </tr>\n",
       "  </tbody>\n",
       "</table>\n",
       "</div>"
      ],
      "text/plain": [
       "                                  client  \\\n",
       "date                                       \n",
       "2016-12-05 12:00:27   Twitter Web Client   \n",
       "2016-12-05 09:53:11   Twitter for iPhone   \n",
       "2016-12-04 18:30:22  Twitter for Android   \n",
       "2016-12-04 18:23:55  Twitter for Android   \n",
       "2016-12-04 17:47:21  Twitter for Android   \n",
       "\n",
       "                                                                 tweet  \n",
       "date                                                                    \n",
       "2016-12-05 12:00:27  If the press would cover me accurately & honor...  \n",
       "2016-12-05 09:53:11  I am thrilled to nominate Dr. @RealBenCarson a...  \n",
       "2016-12-04 18:30:22  their country (the U.S. doesn't tax them) or t...  \n",
       "2016-12-04 18:23:55  Did China ask us if it was OK to devalue their...  \n",
       "2016-12-04 17:47:21  .@FoxNews will be re-running \"Objectified: Don...  "
      ]
     },
     "execution_count": 117,
     "metadata": {},
     "output_type": "execute_result"
    }
   ],
   "source": [
    "intermediate = original[['Date', 'Time', 'Client', 'Tweet']]\n",
    "intermediate.columns = ['date', 'time', 'client', 'tweet']\n",
    "intermediate.head()\n",
    "intermediate.loc[:, 'date'] = pd.to_datetime(intermediate.date + ' ' + intermediate.time)\n",
    "intermediate = intermediate.drop('time', axis=1)\n",
    "intermediate.set_index('date', inplace=True, drop=True)\n",
    "intermediate.head()"
   ]
  },
  {
   "cell_type": "markdown",
   "metadata": {},
   "source": [
    "# Prep for Categorization"
   ]
  },
  {
   "cell_type": "markdown",
   "metadata": {},
   "source": [
    "## Lakoff's Categories"
   ]
  },
  {
   "cell_type": "markdown",
   "metadata": {},
   "source": [
    "1. __Preemptive Framing__: frame an issue before other people get a chance to (e.g. calling dossier fake news)\n",
    "2. __Diversion__: distract from a major issue by saying something outrageous (e.g. attacking hamilton)\n",
    "3. __Trial Ballooon__: test public reaction to a proposal (e.g., expanding nuclear capabilities)\n",
    "4. __Deflection__: attack the messenger (e.g., BuzzFeed and CNN)\n",
    "5. __Salient Exemplar__: generalize from a specific case"
   ]
  },
  {
   "cell_type": "code",
   "execution_count": 118,
   "metadata": {
    "collapsed": false
   },
   "outputs": [
    {
     "data": {
      "text/plain": [
       "OrderedDict([('preemptive_framing',\n",
       "              'frame an issue before other people get a chance to (e.g. calling dossier fake news)'),\n",
       "             ('diversion',\n",
       "              'distract from a major issue by saying something outrageous (e.g. attacking hamilton)'),\n",
       "             ('trial_ballooon',\n",
       "              'test public reaction to a proposal (e.g., expanding nuclear capabilities)'),\n",
       "             ('deflection', 'attack the messenger (e.g., BuzzFeed and CNN)'),\n",
       "             ('salient_exemplar', 'generalize from a specific case')])"
      ]
     },
     "execution_count": 118,
     "metadata": {},
     "output_type": "execute_result"
    }
   ],
   "source": [
    "categories = OrderedDict()\n",
    "categories['preemptive_framing'] = 'frame an issue before other people get a chance to (e.g. calling dossier fake news)'\n",
    "categories['diversion'] = 'distract from a major issue by saying something outrageous (e.g. attacking hamilton)'\n",
    "categories['trial_ballooon'] = 'test public reaction to a proposal (e.g., expanding nuclear capabilities)'\n",
    "categories['deflection'] = 'attack the messenger (e.g., BuzzFeed and CNN)'\n",
    "categories['salient_exemplar'] = 'generalize from a specific case'\n",
    "categories"
   ]
  },
  {
   "cell_type": "markdown",
   "metadata": {},
   "source": [
    "## Add Integer Boolean Columns for Categories"
   ]
  },
  {
   "cell_type": "code",
   "execution_count": 119,
   "metadata": {
    "collapsed": false
   },
   "outputs": [
    {
     "data": {
      "text/html": [
       "<div>\n",
       "<table border=\"1\" class=\"dataframe\">\n",
       "  <thead>\n",
       "    <tr style=\"text-align: right;\">\n",
       "      <th></th>\n",
       "      <th>client</th>\n",
       "      <th>tweet</th>\n",
       "      <th>preemptive_framing</th>\n",
       "      <th>diversion</th>\n",
       "      <th>trial_ballooon</th>\n",
       "      <th>deflection</th>\n",
       "      <th>salient_exemplar</th>\n",
       "    </tr>\n",
       "    <tr>\n",
       "      <th>date</th>\n",
       "      <th></th>\n",
       "      <th></th>\n",
       "      <th></th>\n",
       "      <th></th>\n",
       "      <th></th>\n",
       "      <th></th>\n",
       "      <th></th>\n",
       "    </tr>\n",
       "  </thead>\n",
       "  <tbody>\n",
       "    <tr>\n",
       "      <th>2016-12-05 12:00:27</th>\n",
       "      <td>Twitter Web Client</td>\n",
       "      <td>If the press would cover me accurately &amp; honor...</td>\n",
       "      <td>0</td>\n",
       "      <td>0</td>\n",
       "      <td>0</td>\n",
       "      <td>0</td>\n",
       "      <td>0</td>\n",
       "    </tr>\n",
       "    <tr>\n",
       "      <th>2016-12-05 09:53:11</th>\n",
       "      <td>Twitter for iPhone</td>\n",
       "      <td>I am thrilled to nominate Dr. @RealBenCarson a...</td>\n",
       "      <td>0</td>\n",
       "      <td>0</td>\n",
       "      <td>0</td>\n",
       "      <td>0</td>\n",
       "      <td>0</td>\n",
       "    </tr>\n",
       "    <tr>\n",
       "      <th>2016-12-04 18:30:22</th>\n",
       "      <td>Twitter for Android</td>\n",
       "      <td>their country (the U.S. doesn't tax them) or t...</td>\n",
       "      <td>0</td>\n",
       "      <td>0</td>\n",
       "      <td>0</td>\n",
       "      <td>0</td>\n",
       "      <td>0</td>\n",
       "    </tr>\n",
       "    <tr>\n",
       "      <th>2016-12-04 18:23:55</th>\n",
       "      <td>Twitter for Android</td>\n",
       "      <td>Did China ask us if it was OK to devalue their...</td>\n",
       "      <td>0</td>\n",
       "      <td>0</td>\n",
       "      <td>0</td>\n",
       "      <td>0</td>\n",
       "      <td>0</td>\n",
       "    </tr>\n",
       "    <tr>\n",
       "      <th>2016-12-04 17:47:21</th>\n",
       "      <td>Twitter for Android</td>\n",
       "      <td>.@FoxNews will be re-running \"Objectified: Don...</td>\n",
       "      <td>0</td>\n",
       "      <td>0</td>\n",
       "      <td>0</td>\n",
       "      <td>0</td>\n",
       "      <td>0</td>\n",
       "    </tr>\n",
       "  </tbody>\n",
       "</table>\n",
       "</div>"
      ],
      "text/plain": [
       "                                  client  \\\n",
       "date                                       \n",
       "2016-12-05 12:00:27   Twitter Web Client   \n",
       "2016-12-05 09:53:11   Twitter for iPhone   \n",
       "2016-12-04 18:30:22  Twitter for Android   \n",
       "2016-12-04 18:23:55  Twitter for Android   \n",
       "2016-12-04 17:47:21  Twitter for Android   \n",
       "\n",
       "                                                                 tweet  \\\n",
       "date                                                                     \n",
       "2016-12-05 12:00:27  If the press would cover me accurately & honor...   \n",
       "2016-12-05 09:53:11  I am thrilled to nominate Dr. @RealBenCarson a...   \n",
       "2016-12-04 18:30:22  their country (the U.S. doesn't tax them) or t...   \n",
       "2016-12-04 18:23:55  Did China ask us if it was OK to devalue their...   \n",
       "2016-12-04 17:47:21  .@FoxNews will be re-running \"Objectified: Don...   \n",
       "\n",
       "                     preemptive_framing  diversion  trial_ballooon  \\\n",
       "date                                                                 \n",
       "2016-12-05 12:00:27                   0          0               0   \n",
       "2016-12-05 09:53:11                   0          0               0   \n",
       "2016-12-04 18:30:22                   0          0               0   \n",
       "2016-12-04 18:23:55                   0          0               0   \n",
       "2016-12-04 17:47:21                   0          0               0   \n",
       "\n",
       "                     deflection  salient_exemplar  \n",
       "date                                               \n",
       "2016-12-05 12:00:27           0                 0  \n",
       "2016-12-05 09:53:11           0                 0  \n",
       "2016-12-04 18:30:22           0                 0  \n",
       "2016-12-04 18:23:55           0                 0  \n",
       "2016-12-04 17:47:21           0                 0  "
      ]
     },
     "execution_count": 119,
     "metadata": {},
     "output_type": "execute_result"
    }
   ],
   "source": [
    "final = intermediate\n",
    "for i in categories.keys():\n",
    "    final.loc[:, i] = 0 \n",
    "final.head()"
   ]
  },
  {
   "cell_type": "markdown",
   "metadata": {},
   "source": [
    "# Export All"
   ]
  },
  {
   "cell_type": "code",
   "execution_count": 120,
   "metadata": {
    "collapsed": true
   },
   "outputs": [],
   "source": [
    "final.to_csv('data/all_cleaned.csv', encoding='utf-8')"
   ]
  },
  {
   "cell_type": "markdown",
   "metadata": {},
   "source": [
    "# Export Each Month\n",
    "\n",
    "For easy hand-categorizing..."
   ]
  },
  {
   "cell_type": "code",
   "execution_count": 121,
   "metadata": {
    "collapsed": false
   },
   "outputs": [],
   "source": [
    "months = final.groupby(pd.TimeGrouper('M'))"
   ]
  },
  {
   "cell_type": "code",
   "execution_count": 122,
   "metadata": {
    "collapsed": false
   },
   "outputs": [],
   "source": [
    "for timestamp, df in months:\n",
    "    filename = timestamp.strftime(\"month-%Y-%m.csv\")\n",
    "    df.to_csv(DATA_DIR + filename, encoding='utf-8')"
   ]
  }
 ],
 "metadata": {
  "kernelspec": {
   "display_name": "Python 2",
   "language": "python",
   "name": "python2"
  },
  "language_info": {
   "codemirror_mode": {
    "name": "ipython",
    "version": 2
   },
   "file_extension": ".py",
   "mimetype": "text/x-python",
   "name": "python",
   "nbconvert_exporter": "python",
   "pygments_lexer": "ipython2",
   "version": "2.7.11"
  },
  "nav_menu": {},
  "toc": {
   "navigate_menu": true,
   "number_sections": true,
   "sideBar": true,
   "threshold": 6,
   "toc_cell": false,
   "toc_section_display": "block",
   "toc_window_display": false
  }
 },
 "nbformat": 4,
 "nbformat_minor": 1
}
